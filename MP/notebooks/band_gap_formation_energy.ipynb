{
 "cells": [
  {
   "cell_type": "code",
   "execution_count": 1,
   "metadata": {},
   "outputs": [],
   "source": [
    "mp_root = '/media/lsky/HDD/MP'"
   ]
  },
  {
   "cell_type": "code",
   "execution_count": 2,
   "metadata": {},
   "outputs": [],
   "source": [
    "images_root = '../img/'"
   ]
  },
  {
   "cell_type": "code",
   "execution_count": 64,
   "metadata": {},
   "outputs": [],
   "source": [
    "import os\n",
    "import numpy as np\n",
    "import torch\n",
    "from scipy import stats"
   ]
  },
  {
   "cell_type": "code",
   "execution_count": 4,
   "metadata": {},
   "outputs": [],
   "source": [
    "import matplotlib\n",
    "import matplotlib.pyplot as plt\n",
    "\n",
    "%matplotlib inline"
   ]
  },
  {
   "cell_type": "code",
   "execution_count": 48,
   "metadata": {},
   "outputs": [],
   "source": [
    "matplotlib.use(\"pgf\")\n",
    "matplotlib.rcParams.update({\n",
    "    \"pgf.texsystem\": \"pdflatex\",\n",
    "    'font.family': 'serif',\n",
    "    'text.usetex': True,\n",
    "    'pgf.rcfonts': False,\n",
    "})"
   ]
  },
  {
   "cell_type": "code",
   "execution_count": 5,
   "metadata": {},
   "outputs": [],
   "source": [
    "full_index = np.load(os.path.join(mp_root, 'index.npy'))\n",
    "index_connected = np.load(os.path.join(mp_root, 'meta_derived', 'index_connected_5.0.npy'))\n",
    "\n",
    "band_gap = torch.load(os.path.join(mp_root, 'base_properties', 'band_gap.pth'))\n",
    "formation_energy = torch.load(os.path.join(mp_root, 'base_properties', 'formation_energy_per_atom.pth'))"
   ]
  },
  {
   "cell_type": "code",
   "execution_count": 19,
   "metadata": {},
   "outputs": [],
   "source": [
    "is_hubbard = np.load(os.path.join(mp_root, 'meta', 'is_hubbard.npy'))"
   ]
  },
  {
   "cell_type": "code",
   "execution_count": 6,
   "metadata": {},
   "outputs": [],
   "source": [
    "i = 0\n",
    "j = 0\n",
    "idx_in_full = []\n",
    "while i < len(full_index) and j < len(index_connected):\n",
    "    if index_connected[j] == full_index[i]:\n",
    "        idx_in_full.append(i)\n",
    "        i += 1\n",
    "        j += 1\n",
    "    else:\n",
    "        i += 1\n",
    "\n",
    "idx_in_full = np.array(idx_in_full)"
   ]
  },
  {
   "cell_type": "code",
   "execution_count": 7,
   "metadata": {},
   "outputs": [],
   "source": [
    "band_gap_subset = band_gap[idx_in_full]"
   ]
  },
  {
   "cell_type": "code",
   "execution_count": 66,
   "metadata": {},
   "outputs": [
    {
     "name": "stdout",
     "output_type": "stream",
     "text": [
      "mean: 1.274; std: 0.612\n",
      "skew: -0.097; kurtosis: -0.802\n"
     ]
    }
   ],
   "source": [
    "band_gap_subset_nonzero = band_gap_subset[band_gap_subset > 0]\n",
    "band_gap_subset_nonzero_sqrt = np.sqrt(band_gap_subset_nonzero)\n",
    "band_gap_subset_nonzero_sqrt_normalized = (band_gap_subset_nonzero_sqrt - band_gap_subset_nonzero_sqrt.mean()) / band_gap_subset_nonzero_sqrt.std()\n",
    "print(f\"mean: {band_gap_subset_nonzero_sqrt.mean():.3f}; std: {band_gap_subset_nonzero_sqrt.std():.3f}\")\n",
    "print(f\"skew: {stats.skew(band_gap_subset_nonzero_sqrt):.3f}; kurtosis: {stats.kurtosis(band_gap_subset_nonzero_sqrt):.3f}\")"
   ]
  },
  {
   "cell_type": "code",
   "execution_count": 79,
   "metadata": {},
   "outputs": [
    {
     "data": {
      "text/plain": [
       "tensor(45.2913)"
      ]
     },
     "execution_count": 79,
     "metadata": {},
     "output_type": "execute_result"
    }
   ],
   "source": [
    "(band_gap_subset == 0).sum()*100./len(band_gap_subset)"
   ]
  },
  {
   "cell_type": "code",
   "execution_count": 84,
   "metadata": {},
   "outputs": [
    {
     "data": {
      "image/png": "[encoded data removed]",
      "text/plain": [
       "<Figure size 432x259.2 with 1 Axes>"
      ]
     },
     "metadata": {
      "needs_background": "light"
     },
     "output_type": "display_data"
    }
   ],
   "source": [
    "plt.figure(figsize=(6, 3.6))\n",
    "plt.hist(band_gap_subset, bins=50, density=True, color=\"black\")\n",
    "plt.ylabel('density')\n",
    "plt.xlabel('Band gap, eV')\n",
    "plt.xticks(np.arange(18+1))\n",
    "plt.savefig(f'{images_root}/band_gap.pgf');"
   ]
  },
  {
   "cell_type": "code",
   "execution_count": 83,
   "metadata": {},
   "outputs": [
    {
     "data": {
      "image/png": "[encoded data removed]",
      "text/plain": [
       "<Figure size 432x259.2 with 1 Axes>"
      ]
     },
     "metadata": {
      "needs_background": "light"
     },
     "output_type": "display_data"
    }
   ],
   "source": [
    "plt.figure(figsize=(6, 3.6))\n",
    "plt.hist(band_gap_subset_nonzero_sqrt_normalized, bins=50, density=True, color=\"black\")\n",
    "plt.ylabel('density')\n",
    "plt.savefig(f'{images_root}/band_gap_sqrt_standard.pgf');"
   ]
  },
  {
   "cell_type": "code",
   "execution_count": null,
   "metadata": {},
   "outputs": [],
   "source": []
  },
  {
   "cell_type": "code",
   "execution_count": 20,
   "metadata": {},
   "outputs": [],
   "source": [
    "formation_energy_subset = formation_energy[idx_in_full]\n",
    "is_hubbard_subset = is_hubbard[idx_in_full]"
   ]
  },
  {
   "cell_type": "code",
   "execution_count": 70,
   "metadata": {},
   "outputs": [
    {
     "data": {
      "image/png": "[encoded data removed]",
      "text/plain": [
       "<Figure size 432x259.2 with 1 Axes>"
      ]
     },
     "metadata": {
      "needs_background": "light"
     },
     "output_type": "display_data"
    }
   ],
   "source": [
    "plt.figure(figsize=(6, 3.6))\n",
    "plt.ylabel(\"count\")\n",
    "plt.xlabel(\"Formation energy, eV\")\n",
    "plt.hist(formation_energy_subset, bins=50, color=\"black\")\n",
    "plt.savefig(f'{images_root}/formation_energy.pgf');"
   ]
  },
  {
   "cell_type": "code",
   "execution_count": 67,
   "metadata": {},
   "outputs": [
    {
     "data": {
      "text/plain": [
       "(tensor(-1.4330, dtype=torch.float64), tensor(1.2052, dtype=torch.float64))"
      ]
     },
     "execution_count": 67,
     "metadata": {},
     "output_type": "execute_result"
    }
   ],
   "source": [
    "formation_energy_subset.mean(), formation_energy_subset.std()"
   ]
  },
  {
   "cell_type": "code",
   "execution_count": 71,
   "metadata": {},
   "outputs": [],
   "source": [
    "formation_energy_subset_standard = (formation_energy_subset - formation_energy_subset.mean()) / formation_energy_subset.std() "
   ]
  },
  {
   "cell_type": "code",
   "execution_count": 73,
   "metadata": {},
   "outputs": [
    {
     "data": {
      "image/png": "[encoded data removed]",
      "text/plain": [
       "<Figure size 432x259.2 with 1 Axes>"
      ]
     },
     "metadata": {
      "needs_background": "light"
     },
     "output_type": "display_data"
    }
   ],
   "source": [
    "plt.figure(figsize=(6, 3.6))\n",
    "plt.ylabel(\"count\")\n",
    "plt.xlabel(\"Formation energy (standard), eV\")\n",
    "plt.hist(formation_energy_subset_standard, bins=50, color=\"black\");\n",
    "#plt.savefig(f'{images_root}/formation_energy.pgf');"
   ]
  },
  {
   "cell_type": "code",
   "execution_count": 86,
   "metadata": {},
   "outputs": [
    {
     "data": {
      "image/png": "[encoded data removed]",
      "text/plain": [
       "<Figure size 432x259.2 with 1 Axes>"
      ]
     },
     "metadata": {
      "needs_background": "light"
     },
     "output_type": "display_data"
    }
   ],
   "source": [
    "plt.figure(figsize=(6, 3.6))\n",
    "plt.ylabel(\"count\")\n",
    "plt.xlabel(\"Formation energy, eV\")\n",
    "plt.hist(formation_energy_subset[np.logical_not(is_hubbard_subset)], bins=50, color=\"blue\", alpha=0.5, label='GGA')\n",
    "plt.hist(formation_energy_subset[is_hubbard_subset], bins=50, color=\"red\", alpha=0.5, label='GGA+U');\n",
    "plt.legend()\n",
    "plt.savefig(f'{images_root}/formation_energy_grouped.pgf');"
   ]
  },
  {
   "cell_type": "code",
   "execution_count": null,
   "metadata": {},
   "outputs": [],
   "source": []
  },
  {
   "cell_type": "code",
   "execution_count": 87,
   "metadata": {},
   "outputs": [],
   "source": [
    "n_atoms = np.load(os.path.join(mp_root, 'derived_radial_cutoff_5.0', 'n_atoms.npy'))"
   ]
  },
  {
   "cell_type": "code",
   "execution_count": 92,
   "metadata": {},
   "outputs": [],
   "source": [
    "formation_energy_subset_2n1 = formation_energy_subset[(n_atoms+1)%2 == 0]\n",
    "formation_energy_subset_4n = formation_energy_subset[n_atoms%4 == 0]\n",
    "formation_energy_subset_4n2 = formation_energy_subset[(n_atoms+2)%4 == 0]"
   ]
  },
  {
   "cell_type": "code",
   "execution_count": 96,
   "metadata": {},
   "outputs": [
    {
     "data": {
      "image/png": "[encoded data removed]",
      "text/plain": [
       "<Figure size 432x288 with 1 Axes>"
      ]
     },
     "metadata": {
      "needs_background": "light"
     },
     "output_type": "display_data"
    }
   ],
   "source": [
    "plt.hist(formation_energy_subset_4n, bins=100, alpha=0.5, label='4n')\n",
    "plt.hist(formation_energy_subset_4n2, bins=100, alpha=0.5, label='4n2')\n",
    "plt.hist(formation_energy_subset_2n1, bins=100, alpha=0.5, label='2n1')\n",
    "plt.legend();"
   ]
  },
  {
   "cell_type": "code",
   "execution_count": 100,
   "metadata": {},
   "outputs": [
    {
     "data": {
      "image/png": "[encoded data removed]",
      "text/plain": [
       "<Figure size 432x288 with 1 Axes>"
      ]
     },
     "metadata": {
      "needs_background": "light"
     },
     "output_type": "display_data"
    }
   ],
   "source": [
    "plt.hist(formation_energy_subset_4n, bins=100, alpha=0.5, density=True, label='4n')\n",
    "plt.hist(formation_energy_subset_4n2, bins=100, alpha=0.5, density=True, label='4n2')\n",
    "plt.hist(formation_energy_subset_2n1, bins=100, alpha=0.5, density=True, label='2n1')\n",
    "plt.legend();"
   ]
  },
  {
   "cell_type": "code",
   "execution_count": 99,
   "metadata": {},
   "outputs": [
    {
     "name": "stdout",
     "output_type": "stream",
     "text": [
      "tensor(-1.3956, dtype=torch.float64)\n",
      "tensor(-1.5652, dtype=torch.float64)\n",
      "tensor(-1.3328, dtype=torch.float64)\n"
     ]
    }
   ],
   "source": [
    "print(formation_energy_subset_4n.mean())\n",
    "print(formation_energy_subset_4n2.mean())\n",
    "print(formation_energy_subset_2n1.mean())"
   ]
  },
  {
   "cell_type": "code",
   "execution_count": null,
   "metadata": {},
   "outputs": [],
   "source": []
  }
 ],
 "metadata": {
  "kernelspec": {
   "display_name": "Python (lz)",
   "language": "python",
   "name": "lz"
  },
  "language_info": {
   "codemirror_mode": {
    "name": "ipython",
    "version": 3
   },
   "file_extension": ".py",
   "mimetype": "text/x-python",
   "name": "python",
   "nbconvert_exporter": "python",
   "pygments_lexer": "ipython3",
   "version": "3.6.10"
  }
 },
 "nbformat": 4,
 "nbformat_minor": 4
}
