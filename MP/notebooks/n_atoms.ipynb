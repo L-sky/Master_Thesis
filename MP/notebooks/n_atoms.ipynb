{
 "cells": [
  {
   "cell_type": "code",
   "execution_count": 1,
   "metadata": {},
   "outputs": [],
   "source": [
    "mp_root = '/media/lsky/HDD/MP'"
   ]
  },
  {
   "cell_type": "code",
   "execution_count": 2,
   "metadata": {},
   "outputs": [],
   "source": [
    "images_root = '../img/'"
   ]
  },
  {
   "cell_type": "code",
   "execution_count": 3,
   "metadata": {},
   "outputs": [],
   "source": [
    "import os\n",
    "import numpy as np\n",
    "import torch"
   ]
  },
  {
   "cell_type": "code",
   "execution_count": 4,
   "metadata": {},
   "outputs": [],
   "source": [
    "import matplotlib\n",
    "import matplotlib.pyplot as plt\n",
    "\n",
    "%matplotlib inline"
   ]
  },
  {
   "cell_type": "code",
   "execution_count": 16,
   "metadata": {},
   "outputs": [],
   "source": [
    "from collections import Counter"
   ]
  },
  {
   "cell_type": "code",
   "execution_count": 26,
   "metadata": {},
   "outputs": [],
   "source": [
    "matplotlib.use(\"pgf\")\n",
    "matplotlib.rcParams.update({\n",
    "    \"pgf.texsystem\": \"pdflatex\",\n",
    "    'font.family': 'serif',\n",
    "    'text.usetex': True,\n",
    "    'pgf.rcfonts': False,\n",
    "})"
   ]
  },
  {
   "cell_type": "code",
   "execution_count": 10,
   "metadata": {},
   "outputs": [],
   "source": [
    "full_index = np.load(os.path.join(mp_root, 'index.npy'))\n",
    "index_connected = np.load(os.path.join(mp_root, 'meta_derived', 'index_connected_5.0.npy'))\n",
    "\n",
    "n_atoms = np.load(os.path.join(mp_root, 'derived_radial_cutoff_5.0', 'n_atoms.npy'))"
   ]
  },
  {
   "cell_type": "code",
   "execution_count": 121,
   "metadata": {},
   "outputs": [],
   "source": [
    "i = 0\n",
    "j = 0\n",
    "idx_in_full = []\n",
    "while i < len(full_index) and j < len(index_connected):\n",
    "    if index_connected[j] == full_index[i]:\n",
    "        idx_in_full.append(i)\n",
    "        i += 1\n",
    "        j += 1\n",
    "    else:\n",
    "        i += 1\n",
    "\n",
    "idx_in_full = np.array(idx_in_full)"
   ]
  },
  {
   "cell_type": "code",
   "execution_count": 29,
   "metadata": {},
   "outputs": [],
   "source": [
    "n_atoms_dict = dict(sorted(Counter(n_atoms).items()))\n",
    "n_atoms_unique = np.array(list(n_atoms_dict.keys()))\n",
    "n_atoms_counts = np.array(list(n_atoms_dict.values()))"
   ]
  },
  {
   "cell_type": "code",
   "execution_count": 49,
   "metadata": {},
   "outputs": [
    {
     "data": {
      "image/png": "[encoded data removed]",
      "text/plain": [
       "<Figure size 432x259.2 with 1 Axes>"
      ]
     },
     "metadata": {
      "needs_background": "light"
     },
     "output_type": "display_data"
    }
   ],
   "source": [
    "plt.figure(figsize=(6, 3.6))\n",
    "plt.bar(n_atoms_unique[:99], n_atoms_counts[:99]*100/n_atoms_counts.sum(), color=\"black\")\n",
    "plt.ylabel(\"share of structures, %\")\n",
    "plt.xlabel(\"number of atoms\")\n",
    "plt.xticks(np.arange(100+1, step=10))\n",
    "plt.yticks(np.arange(10+1))\n",
    "ax = plt.gca()\n",
    "ax.grid(axis='y')\n",
    "ax.set_axisbelow(True)\n",
    "plt.savefig(f'{images_root}/n_atoms.pgf');"
   ]
  },
  {
   "cell_type": "code",
   "execution_count": 50,
   "metadata": {},
   "outputs": [
    {
     "data": {
      "text/plain": [
       "444"
      ]
     },
     "execution_count": 50,
     "metadata": {},
     "output_type": "execute_result"
    }
   ],
   "source": [
    "n_atoms_unique[-1]"
   ]
  },
  {
   "cell_type": "code",
   "execution_count": 40,
   "metadata": {},
   "outputs": [
    {
     "data": {
      "text/plain": [
       "3.109635981393501"
      ]
     },
     "execution_count": 40,
     "metadata": {},
     "output_type": "execute_result"
    }
   ],
   "source": [
    "n_atoms_counts[99:].sum()*100/n_atoms_counts.sum()"
   ]
  },
  {
   "cell_type": "code",
   "execution_count": 51,
   "metadata": {},
   "outputs": [
    {
     "data": {
      "image/png": "[encoded data removed]",
      "text/plain": [
       "<Figure size 432x259.2 with 1 Axes>"
      ]
     },
     "metadata": {
      "needs_background": "light"
     },
     "output_type": "display_data"
    }
   ],
   "source": [
    "plt.figure(figsize=(6, 3.6))\n",
    "plt.bar(n_atoms_unique[2:99:4], n_atoms_counts[2:99:4]*100/n_atoms_counts.sum(), color=\"black\", label=\"4n\")\n",
    "plt.bar(n_atoms_unique[:99:4], n_atoms_counts[:99:4]*100/n_atoms_counts.sum(), color=\"blue\", label=\"4n-2\")\n",
    "plt.bar(n_atoms_unique[1:99:2], n_atoms_counts[1:99:2]*100/n_atoms_counts.sum(), color=\"red\", label=\"2n-1\")\n",
    "plt.ylabel(\"share of structures, %\")\n",
    "plt.xlabel(\"number of atoms\")\n",
    "plt.xticks(np.arange(100+1, step=10))\n",
    "plt.yticks(np.arange(10+1))\n",
    "ax = plt.gca()\n",
    "ax.grid(axis='y')\n",
    "ax.set_axisbelow(True)\n",
    "plt.legend()\n",
    "plt.savefig(f'{images_root}/n_atoms_parity.pgf', transparent=True)"
   ]
  },
  {
   "cell_type": "code",
   "execution_count": null,
   "metadata": {},
   "outputs": [],
   "source": []
  },
  {
   "cell_type": "code",
   "execution_count": null,
   "metadata": {},
   "outputs": [],
   "source": []
  },
  {
   "cell_type": "code",
   "execution_count": 53,
   "metadata": {},
   "outputs": [],
   "source": [
    "lattice_type = np.load(os.path.join(mp_root, 'derived_radial_cutoff_5.0', 'lattice_type.npy'))"
   ]
  },
  {
   "cell_type": "code",
   "execution_count": 58,
   "metadata": {},
   "outputs": [
    {
     "data": {
      "text/plain": [
       "Counter({0: 103446, 1: 17372})"
      ]
     },
     "execution_count": 58,
     "metadata": {},
     "output_type": "execute_result"
    }
   ],
   "source": [
    "Counter(n_atoms%2)"
   ]
  },
  {
   "cell_type": "code",
   "execution_count": 57,
   "metadata": {},
   "outputs": [
    {
     "data": {
      "text/plain": [
       "{('cubic', 0): 14441,\n",
       " ('cubic', 1): 3241,\n",
       " ('hexagonal', 0): 9758,\n",
       " ('hexagonal', 1): 2723,\n",
       " ('monoclinic', 0): 25560,\n",
       " ('monoclinic', 1): 2422,\n",
       " ('orthorhombic', 0): 23594,\n",
       " ('orthorhombic', 1): 1283,\n",
       " ('rhombohedral', 0): 4926,\n",
       " ('rhombohedral', 1): 1536,\n",
       " ('tetragonal', 0): 11119,\n",
       " ('tetragonal', 1): 3010,\n",
       " ('triclinic', 0): 14048,\n",
       " ('triclinic', 1): 3157}"
      ]
     },
     "execution_count": 57,
     "metadata": {},
     "output_type": "execute_result"
    }
   ],
   "source": [
    "dict(sorted(Counter(list(zip(lattice_type, n_atoms%2))).items()))"
   ]
  },
  {
   "cell_type": "code",
   "execution_count": null,
   "metadata": {},
   "outputs": [],
   "source": []
  },
  {
   "cell_type": "code",
   "execution_count": 100,
   "metadata": {},
   "outputs": [],
   "source": [
    "international_number = np.load(os.path.join(mp_root, 'derived_radial_cutoff_5.0', 'international_number.npy'))\n",
    "spacegroup_symbol = np.load(os.path.join(mp_root, 'derived_radial_cutoff_5.0', 'spacegroup_symbol.npy'))"
   ]
  },
  {
   "cell_type": "code",
   "execution_count": 76,
   "metadata": {},
   "outputs": [],
   "source": [
    "in_even = set(Counter(international_number[n_atoms%2 == 0]).keys())\n",
    "in_odd = set(Counter(international_number[n_atoms%2 == 1]).keys())"
   ]
  },
  {
   "cell_type": "code",
   "execution_count": 84,
   "metadata": {},
   "outputs": [
    {
     "name": "stdout",
     "output_type": "stream",
     "text": [
      "227\n",
      "77\n",
      "149\n",
      "1\n"
     ]
    }
   ],
   "source": [
    "print(in_even.union(in_odd).__len__())\n",
    "print(in_odd.intersection(in_even).__len__())\n",
    "print(in_even.difference(in_odd).__len__())\n",
    "print(in_odd.difference(in_even).__len__())"
   ]
  },
  {
   "cell_type": "code",
   "execution_count": 92,
   "metadata": {},
   "outputs": [],
   "source": [
    "only_even_pg = in_even.difference(in_odd)\n",
    "only_even_pg_n_atoms = n_atoms[np.array([entry in only_even_pg for entry in international_number])]"
   ]
  },
  {
   "cell_type": "code",
   "execution_count": 94,
   "metadata": {},
   "outputs": [
    {
     "data": {
      "text/plain": [
       "53812"
      ]
     },
     "execution_count": 94,
     "metadata": {},
     "output_type": "execute_result"
    }
   ],
   "source": [
    "only_even_pg_n_atoms.__len__()"
   ]
  },
  {
   "cell_type": "code",
   "execution_count": 98,
   "metadata": {},
   "outputs": [],
   "source": [
    "only_odd_pg = in_odd.difference(in_even)\n",
    "only_odd_pg_n_atoms = n_atoms[np.array([entry in only_odd_pg for entry in international_number])]"
   ]
  },
  {
   "cell_type": "code",
   "execution_count": 99,
   "metadata": {},
   "outputs": [
    {
     "data": {
      "text/plain": [
       "1"
      ]
     },
     "execution_count": 99,
     "metadata": {},
     "output_type": "execute_result"
    }
   ],
   "source": [
    "only_odd_pg_n_atoms.__len__()"
   ]
  },
  {
   "cell_type": "code",
   "execution_count": 115,
   "metadata": {},
   "outputs": [
    {
     "name": "stdout",
     "output_type": "stream",
     "text": [
      "[1, 2, 3, 5, 6, 8, 10, 12, 16, 21, 23, 25, 35, 38, 42, 44, 47, 65, 69, 71, 75, 79, 81, 82, 83, 87, 89, 97, 99, 107, 111, 115, 119, 121, 123, 139, 143, 144, 145, 146, 147, 148, 149, 150, 151, 152, 153, 154, 155, 156, 157, 160, 162, 164, 166, 171, 174, 175, 177, 180, 181, 183, 187, 189, 191, 195, 196, 197, 200, 202, 204, 215, 216, 217, 221, 225, 229]\n"
     ]
    }
   ],
   "source": [
    "print(sorted(in_odd.intersection(in_even)))"
   ]
  },
  {
   "cell_type": "code",
   "execution_count": null,
   "metadata": {},
   "outputs": [],
   "source": []
  },
  {
   "cell_type": "code",
   "execution_count": 122,
   "metadata": {},
   "outputs": [],
   "source": [
    "theoretical =  np.load(os.path.join(mp_root, 'meta', 'theoretical.npy'))\n",
    "theoretical_subset = theoretical[idx_in_full]"
   ]
  },
  {
   "cell_type": "code",
   "execution_count": 126,
   "metadata": {},
   "outputs": [],
   "source": [
    "n_atoms_theoretical_dict = dict(sorted(Counter(n_atoms[theoretical_subset]).items()))\n",
    "n_atoms_practical_dict = dict(sorted(Counter(n_atoms[np.logical_not(theoretical_subset)]).items()))"
   ]
  },
  {
   "cell_type": "code",
   "execution_count": 143,
   "metadata": {},
   "outputs": [],
   "source": [
    "n_atoms_theoretical_unique = np.array(list(n_atoms_theoretical_dict.keys()))\n",
    "n_atoms_theoretical_counts = np.array(list(n_atoms_theoretical_dict.values()))\n",
    "\n",
    "n_atoms_practical_unique = np.array(list(n_atoms_practical_dict.keys()))\n",
    "n_atoms_practical_counts = np.array(list(n_atoms_practical_dict.values()))"
   ]
  },
  {
   "cell_type": "code",
   "execution_count": 151,
   "metadata": {},
   "outputs": [
    {
     "data": {
      "image/png": "[encoded data removed]",
      "text/plain": [
       "<Figure size 1080x648 with 1 Axes>"
      ]
     },
     "metadata": {
      "needs_background": "light"
     },
     "output_type": "display_data"
    }
   ],
   "source": [
    "plt.figure(figsize=(15,9))\n",
    "plt.bar(n_atoms_theoretical_unique[n_atoms_theoretical_unique%2==1], n_atoms_theoretical_counts[n_atoms_theoretical_unique%2==1], color='black');\n",
    "plt.bar(n_atoms_practical_unique[n_atoms_practical_unique%2==1], n_atoms_practical_counts[n_atoms_practical_unique%2==1], color='red', alpha = 0.7);\n",
    "plt.xlim((70, 300))\n",
    "plt.ylim((0, 70));"
   ]
  },
  {
   "cell_type": "code",
   "execution_count": 138,
   "metadata": {},
   "outputs": [
    {
     "data": {
      "text/plain": [
       "{2: 749,\n",
       " 3: 785,\n",
       " 4: 10149,\n",
       " 5: 1844,\n",
       " 6: 2301,\n",
       " 7: 662,\n",
       " 8: 3121,\n",
       " 9: 940,\n",
       " 10: 3915,\n",
       " 11: 365,\n",
       " 12: 3447,\n",
       " 13: 760,\n",
       " 14: 2675,\n",
       " 15: 681,\n",
       " 16: 2320,\n",
       " 17: 242,\n",
       " 18: 1868,\n",
       " 19: 421,\n",
       " 20: 2939,\n",
       " 21: 288,\n",
       " 22: 1560,\n",
       " 23: 249,\n",
       " 24: 3103,\n",
       " 25: 225,\n",
       " 26: 1018,\n",
       " 27: 238,\n",
       " 28: 3072,\n",
       " 29: 359,\n",
       " 30: 1050,\n",
       " 31: 120,\n",
       " 32: 2319,\n",
       " 33: 156,\n",
       " 34: 597,\n",
       " 35: 150,\n",
       " 36: 1946,\n",
       " 37: 112,\n",
       " 38: 577,\n",
       " 39: 141,\n",
       " 40: 1849,\n",
       " 41: 133,\n",
       " 42: 710,\n",
       " 43: 96,\n",
       " 44: 931,\n",
       " 45: 174,\n",
       " 46: 488,\n",
       " 47: 76,\n",
       " 48: 927,\n",
       " 49: 87,\n",
       " 50: 353,\n",
       " 51: 50,\n",
       " 52: 718,\n",
       " 53: 31,\n",
       " 54: 414,\n",
       " 55: 70,\n",
       " 56: 979,\n",
       " 57: 45,\n",
       " 58: 210,\n",
       " 59: 54,\n",
       " 60: 471,\n",
       " 61: 21,\n",
       " 62: 167,\n",
       " 63: 110,\n",
       " 64: 1104,\n",
       " 65: 82,\n",
       " 66: 172,\n",
       " 67: 23,\n",
       " 68: 419,\n",
       " 69: 58,\n",
       " 70: 206,\n",
       " 71: 29,\n",
       " 72: 601,\n",
       " 73: 28,\n",
       " 74: 97,\n",
       " 75: 43,\n",
       " 76: 381,\n",
       " 77: 37,\n",
       " 78: 123,\n",
       " 79: 42,\n",
       " 80: 872,\n",
       " 81: 31,\n",
       " 82: 63,\n",
       " 83: 35,\n",
       " 84: 322,\n",
       " 85: 18,\n",
       " 86: 154,\n",
       " 87: 20,\n",
       " 88: 330,\n",
       " 89: 17,\n",
       " 90: 175,\n",
       " 91: 13,\n",
       " 92: 211,\n",
       " 93: 15,\n",
       " 94: 107,\n",
       " 95: 27,\n",
       " 96: 267,\n",
       " 97: 16,\n",
       " 98: 71,\n",
       " 99: 15,\n",
       " 100: 370,\n",
       " 101: 5,\n",
       " 102: 50,\n",
       " 103: 1,\n",
       " 104: 96,\n",
       " 105: 61,\n",
       " 106: 63,\n",
       " 107: 8,\n",
       " 108: 70,\n",
       " 109: 5,\n",
       " 110: 12,\n",
       " 111: 7,\n",
       " 112: 112,\n",
       " 113: 2,\n",
       " 114: 19,\n",
       " 115: 2,\n",
       " 116: 54,\n",
       " 117: 6,\n",
       " 118: 13,\n",
       " 119: 3,\n",
       " 120: 52,\n",
       " 121: 1,\n",
       " 122: 5,\n",
       " 123: 5,\n",
       " 124: 17,\n",
       " 125: 1,\n",
       " 126: 16,\n",
       " 127: 3,\n",
       " 128: 33,\n",
       " 129: 3,\n",
       " 130: 7,\n",
       " 132: 26,\n",
       " 133: 1,\n",
       " 134: 4,\n",
       " 135: 3,\n",
       " 136: 30,\n",
       " 138: 6,\n",
       " 139: 3,\n",
       " 140: 18,\n",
       " 142: 5,\n",
       " 143: 2,\n",
       " 144: 241,\n",
       " 145: 3,\n",
       " 146: 6,\n",
       " 147: 2,\n",
       " 148: 10,\n",
       " 150: 76,\n",
       " 151: 1,\n",
       " 152: 27,\n",
       " 153: 3,\n",
       " 154: 4,\n",
       " 155: 2,\n",
       " 156: 15,\n",
       " 158: 1,\n",
       " 159: 2,\n",
       " 160: 29,\n",
       " 161: 4,\n",
       " 162: 2,\n",
       " 164: 20,\n",
       " 165: 1,\n",
       " 166: 3,\n",
       " 167: 1,\n",
       " 168: 37,\n",
       " 171: 2,\n",
       " 172: 10,\n",
       " 174: 8,\n",
       " 175: 2,\n",
       " 176: 10,\n",
       " 177: 2,\n",
       " 178: 3,\n",
       " 180: 12,\n",
       " 182: 3,\n",
       " 184: 6,\n",
       " 188: 2,\n",
       " 190: 2,\n",
       " 191: 2,\n",
       " 192: 14,\n",
       " 195: 2,\n",
       " 197: 1,\n",
       " 198: 4,\n",
       " 200: 4,\n",
       " 232: 2,\n",
       " 268: 1,\n",
       " 296: 1,\n",
       " 304: 1}"
      ]
     },
     "execution_count": 138,
     "metadata": {},
     "output_type": "execute_result"
    }
   ],
   "source": [
    "n_atoms_theoretical_dict"
   ]
  },
  {
   "cell_type": "code",
   "execution_count": 141,
   "metadata": {},
   "outputs": [
    {
     "data": {
      "text/plain": [
       "{2: 864,\n",
       " 3: 734,\n",
       " 4: 1672,\n",
       " 5: 1615,\n",
       " 6: 2240,\n",
       " 7: 571,\n",
       " 8: 1929,\n",
       " 9: 1079,\n",
       " 10: 1695,\n",
       " 11: 365,\n",
       " 12: 2481,\n",
       " 13: 373,\n",
       " 14: 1291,\n",
       " 15: 287,\n",
       " 16: 1650,\n",
       " 17: 259,\n",
       " 18: 1133,\n",
       " 19: 180,\n",
       " 20: 1920,\n",
       " 21: 235,\n",
       " 22: 1190,\n",
       " 23: 128,\n",
       " 24: 1981,\n",
       " 25: 62,\n",
       " 26: 577,\n",
       " 27: 126,\n",
       " 28: 1759,\n",
       " 29: 293,\n",
       " 30: 664,\n",
       " 31: 50,\n",
       " 32: 1264,\n",
       " 33: 62,\n",
       " 34: 351,\n",
       " 35: 61,\n",
       " 36: 1509,\n",
       " 37: 59,\n",
       " 38: 504,\n",
       " 39: 67,\n",
       " 40: 1196,\n",
       " 41: 42,\n",
       " 42: 418,\n",
       " 43: 23,\n",
       " 44: 800,\n",
       " 45: 44,\n",
       " 46: 324,\n",
       " 47: 16,\n",
       " 48: 849,\n",
       " 49: 34,\n",
       " 50: 188,\n",
       " 51: 21,\n",
       " 52: 647,\n",
       " 53: 15,\n",
       " 54: 241,\n",
       " 55: 15,\n",
       " 56: 672,\n",
       " 57: 18,\n",
       " 58: 168,\n",
       " 59: 12,\n",
       " 60: 516,\n",
       " 61: 7,\n",
       " 62: 143,\n",
       " 63: 7,\n",
       " 64: 536,\n",
       " 65: 7,\n",
       " 66: 110,\n",
       " 67: 6,\n",
       " 68: 409,\n",
       " 69: 10,\n",
       " 70: 91,\n",
       " 71: 4,\n",
       " 72: 546,\n",
       " 73: 5,\n",
       " 74: 72,\n",
       " 75: 4,\n",
       " 76: 290,\n",
       " 77: 13,\n",
       " 78: 132,\n",
       " 79: 4,\n",
       " 80: 527,\n",
       " 81: 8,\n",
       " 82: 58,\n",
       " 83: 3,\n",
       " 84: 245,\n",
       " 85: 2,\n",
       " 86: 49,\n",
       " 87: 5,\n",
       " 88: 284,\n",
       " 89: 3,\n",
       " 90: 68,\n",
       " 91: 1,\n",
       " 92: 175,\n",
       " 94: 28,\n",
       " 95: 1,\n",
       " 96: 271,\n",
       " 97: 1,\n",
       " 98: 31,\n",
       " 99: 3,\n",
       " 100: 141,\n",
       " 102: 30,\n",
       " 103: 9,\n",
       " 104: 202,\n",
       " 105: 5,\n",
       " 106: 53,\n",
       " 107: 1,\n",
       " 108: 184,\n",
       " 109: 2,\n",
       " 110: 23,\n",
       " 111: 5,\n",
       " 112: 196,\n",
       " 113: 2,\n",
       " 114: 19,\n",
       " 116: 85,\n",
       " 117: 2,\n",
       " 118: 18,\n",
       " 119: 1,\n",
       " 120: 126,\n",
       " 121: 1,\n",
       " 122: 13,\n",
       " 123: 4,\n",
       " 124: 64,\n",
       " 125: 2,\n",
       " 126: 26,\n",
       " 128: 110,\n",
       " 130: 8,\n",
       " 132: 64,\n",
       " 134: 5,\n",
       " 135: 1,\n",
       " 136: 88,\n",
       " 138: 12,\n",
       " 139: 1,\n",
       " 140: 68,\n",
       " 142: 25,\n",
       " 144: 92,\n",
       " 145: 1,\n",
       " 146: 4,\n",
       " 148: 37,\n",
       " 150: 5,\n",
       " 152: 64,\n",
       " 154: 5,\n",
       " 156: 34,\n",
       " 157: 1,\n",
       " 158: 3,\n",
       " 160: 84,\n",
       " 162: 8,\n",
       " 164: 31,\n",
       " 165: 1,\n",
       " 166: 4,\n",
       " 167: 1,\n",
       " 168: 64,\n",
       " 169: 1,\n",
       " 170: 2,\n",
       " 172: 15,\n",
       " 174: 9,\n",
       " 176: 46,\n",
       " 178: 4,\n",
       " 180: 21,\n",
       " 182: 7,\n",
       " 184: 36,\n",
       " 185: 1,\n",
       " 186: 6,\n",
       " 188: 14,\n",
       " 189: 1,\n",
       " 190: 1,\n",
       " 192: 58,\n",
       " 194: 2,\n",
       " 196: 10,\n",
       " 198: 2,\n",
       " 200: 25,\n",
       " 204: 1,\n",
       " 206: 1,\n",
       " 207: 1,\n",
       " 208: 21,\n",
       " 212: 4,\n",
       " 216: 23,\n",
       " 218: 1,\n",
       " 220: 3,\n",
       " 222: 1,\n",
       " 224: 15,\n",
       " 228: 4,\n",
       " 232: 2,\n",
       " 234: 2,\n",
       " 236: 3,\n",
       " 240: 10,\n",
       " 244: 5,\n",
       " 246: 2,\n",
       " 248: 11,\n",
       " 250: 1,\n",
       " 252: 6,\n",
       " 256: 6,\n",
       " 260: 1,\n",
       " 264: 5,\n",
       " 270: 1,\n",
       " 272: 5,\n",
       " 273: 1,\n",
       " 282: 1,\n",
       " 284: 1,\n",
       " 286: 1,\n",
       " 288: 7,\n",
       " 291: 1,\n",
       " 292: 2,\n",
       " 296: 5,\n",
       " 300: 2,\n",
       " 304: 2,\n",
       " 312: 2,\n",
       " 320: 3,\n",
       " 324: 1,\n",
       " 328: 5,\n",
       " 332: 1,\n",
       " 336: 5,\n",
       " 344: 3,\n",
       " 352: 2,\n",
       " 380: 1,\n",
       " 392: 3,\n",
       " 404: 1,\n",
       " 426: 1,\n",
       " 432: 1,\n",
       " 444: 1}"
      ]
     },
     "execution_count": 141,
     "metadata": {},
     "output_type": "execute_result"
    }
   ],
   "source": [
    "n_atoms_practical_dict"
   ]
  }
 ],
 "metadata": {
  "kernelspec": {
   "display_name": "Python (lz)",
   "language": "python",
   "name": "lz"
  },
  "language_info": {
   "codemirror_mode": {
    "name": "ipython",
    "version": 3
   },
   "file_extension": ".py",
   "mimetype": "text/x-python",
   "name": "python",
   "nbconvert_exporter": "python",
   "pygments_lexer": "ipython3",
   "version": "3.6.10"
  }
 },
 "nbformat": 4,
 "nbformat_minor": 4
}
