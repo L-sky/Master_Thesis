{
 "cells": [
  {
   "cell_type": "code",
   "execution_count": 1,
   "metadata": {},
   "outputs": [],
   "source": [
    "mp_root = '/media/lsky/HDD/MP'"
   ]
  },
  {
   "cell_type": "code",
   "execution_count": 2,
   "metadata": {},
   "outputs": [],
   "source": [
    "images_root = '../img/'"
   ]
  },
  {
   "cell_type": "code",
   "execution_count": 3,
   "metadata": {},
   "outputs": [],
   "source": [
    "import os\n",
    "import numpy as np\n",
    "import torch\n",
    "from scipy import stats"
   ]
  },
  {
   "cell_type": "code",
   "execution_count": 4,
   "metadata": {},
   "outputs": [],
   "source": [
    "import matplotlib\n",
    "import matplotlib.pyplot as plt\n",
    "\n",
    "%matplotlib inline"
   ]
  },
  {
   "cell_type": "code",
   "execution_count": 34,
   "metadata": {},
   "outputs": [],
   "source": [
    "matplotlib.use(\"pgf\")\n",
    "matplotlib.rcParams.update({\n",
    "    \"pgf.texsystem\": \"pdflatex\",\n",
    "    'font.family': 'serif',\n",
    "    'text.usetex': True,\n",
    "    'pgf.rcfonts': False,\n",
    "})"
   ]
  },
  {
   "cell_type": "code",
   "execution_count": 12,
   "metadata": {},
   "outputs": [],
   "source": [
    "atom_type_mask = np.load(os.path.join(mp_root, 'derived_radial_cutoff_5.0', 'atom_type_mask.npy'))\n",
    "atom_type_structure_count = atom_type_mask.sum(axis=0)[1:]\n",
    "atomic_numbers = np.arange(1, len(atom_type_structure_count)+1)\n",
    "n_structures = len(atom_type_mask)"
   ]
  },
  {
   "cell_type": "code",
   "execution_count": 36,
   "metadata": {},
   "outputs": [
    {
     "data": {
      "image/png": "[encoded data removed]",
      "text/plain": [
       "<Figure size 432x259.2 with 1 Axes>"
      ]
     },
     "metadata": {
      "needs_background": "light"
     },
     "output_type": "display_data"
    }
   ],
   "source": [
    "plt.figure(figsize=(6, 3.6))\n",
    "plt.bar(atomic_numbers, atom_type_structure_count*100/n_structures, color=\"black\")\n",
    "plt.ylabel('share of structures, %')\n",
    "plt.xlabel('atomic number')\n",
    "plt.xticks(np.arange(90+1, step=10))\n",
    "plt.ylim((0, 16))\n",
    "plt.text(15, 14.5, 'O (8) ~49%')\n",
    "plt.arrow(23, 14, -12, 0, head_width=0.5, color='black')\n",
    "ax = plt.gca()\n",
    "ax.grid(axis='y')\n",
    "ax.set_axisbelow(True)\n",
    "plt.savefig(f'{images_root}/atom_type_presence.pgf');"
   ]
  },
  {
   "cell_type": "code",
   "execution_count": 19,
   "metadata": {},
   "outputs": [
    {
     "data": {
      "text/plain": [
       "[(1, 8016),\n",
       " (2, 5),\n",
       " (3, 18379),\n",
       " (4, 1047),\n",
       " (5, 5359),\n",
       " (6, 7272),\n",
       " (7, 7644),\n",
       " (8, 59538),\n",
       " (9, 9514),\n",
       " (10, 0),\n",
       " (11, 7126),\n",
       " (12, 8285),\n",
       " (13, 6190),\n",
       " (14, 8596),\n",
       " (15, 13200),\n",
       " (16, 10098),\n",
       " (17, 5503),\n",
       " (18, 1),\n",
       " (19, 6251),\n",
       " (20, 5871),\n",
       " (21, 2001),\n",
       " (22, 5523),\n",
       " (23, 7086),\n",
       " (24, 5133),\n",
       " (25, 10739),\n",
       " (26, 9862),\n",
       " (27, 8408),\n",
       " (28, 6631),\n",
       " (29, 7889),\n",
       " (30, 5106),\n",
       " (31, 3929),\n",
       " (32, 4353),\n",
       " (33, 3372),\n",
       " (34, 5407),\n",
       " (35, 2649),\n",
       " (36, 13),\n",
       " (37, 3730),\n",
       " (38, 4760),\n",
       " (39, 3719),\n",
       " (40, 2637),\n",
       " (41, 3200),\n",
       " (42, 4083),\n",
       " (43, 644),\n",
       " (44, 2061),\n",
       " (45, 2268),\n",
       " (46, 2718),\n",
       " (47, 3466),\n",
       " (48, 2761),\n",
       " (49, 3492),\n",
       " (50, 4612),\n",
       " (51, 4505),\n",
       " (52, 4079),\n",
       " (53, 2642),\n",
       " (54, 143),\n",
       " (55, 3472),\n",
       " (56, 5891),\n",
       " (57, 4214),\n",
       " (58, 2634),\n",
       " (59, 2252),\n",
       " (60, 2555),\n",
       " (61, 513),\n",
       " (62, 2302),\n",
       " (63, 1606),\n",
       " (64, 1442),\n",
       " (65, 1723),\n",
       " (66, 1846),\n",
       " (67, 1871),\n",
       " (68, 1919),\n",
       " (69, 1484),\n",
       " (70, 1851),\n",
       " (71, 1437),\n",
       " (72, 1620),\n",
       " (73, 2326),\n",
       " (74, 3565),\n",
       " (75, 1251),\n",
       " (76, 1044),\n",
       " (77, 1793),\n",
       " (78, 2182),\n",
       " (79, 2321),\n",
       " (80, 2091),\n",
       " (81, 2593),\n",
       " (82, 2484),\n",
       " (83, 3706),\n",
       " (84, 0),\n",
       " (85, 0),\n",
       " (86, 0),\n",
       " (87, 0),\n",
       " (88, 0),\n",
       " (89, 296),\n",
       " (90, 959),\n",
       " (91, 250),\n",
       " (92, 2038),\n",
       " (93, 338),\n",
       " (94, 385)]"
      ]
     },
     "execution_count": 19,
     "metadata": {},
     "output_type": "execute_result"
    }
   ],
   "source": [
    "list(zip(atomic_numbers, atom_type_structure_count))"
   ]
  }
 ],
 "metadata": {
  "kernelspec": {
   "display_name": "Python (lz)",
   "language": "python",
   "name": "lz"
  },
  "language_info": {
   "codemirror_mode": {
    "name": "ipython",
    "version": 3
   },
   "file_extension": ".py",
   "mimetype": "text/x-python",
   "name": "python",
   "nbconvert_exporter": "python",
   "pygments_lexer": "ipython3",
   "version": "3.6.10"
  }
 },
 "nbformat": 4,
 "nbformat_minor": 4
}
