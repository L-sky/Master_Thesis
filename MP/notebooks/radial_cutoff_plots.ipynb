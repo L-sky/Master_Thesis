{
 "cells": [
  {
   "cell_type": "code",
   "execution_count": 5,
   "metadata": {},
   "outputs": [],
   "source": [
    "mp_root = '/media/lsky/HDD/MP'"
   ]
  },
  {
   "cell_type": "code",
   "execution_count": 24,
   "metadata": {},
   "outputs": [],
   "source": [
    "images_root = '../img/'"
   ]
  },
  {
   "cell_type": "code",
   "execution_count": 6,
   "metadata": {},
   "outputs": [],
   "source": [
    "import os\n",
    "import numpy as np"
   ]
  },
  {
   "cell_type": "code",
   "execution_count": 27,
   "metadata": {},
   "outputs": [],
   "source": [
    "import matplotlib\n",
    "import matplotlib.pyplot as plt\n",
    "\n",
    "matplotlib.use(\"pgf\")\n",
    "matplotlib.rcParams.update({\n",
    "    \"pgf.texsystem\": \"pdflatex\",\n",
    "    'font.family': 'serif',\n",
    "    'text.usetex': True,\n",
    "    'pgf.rcfonts': False,\n",
    "})"
   ]
  },
  {
   "cell_type": "code",
   "execution_count": 7,
   "metadata": {},
   "outputs": [],
   "source": [
    "nnd = np.load(os.path.join(mp_root, 'meta_derived', 'closest_neighbor_distances.npy'), allow_pickle=True)\n",
    "spacing = np.array([max(distances_list) for distances_list in nnd])"
   ]
  },
  {
   "cell_type": "code",
   "execution_count": 9,
   "metadata": {},
   "outputs": [],
   "source": [
    "inner_radii = np.load(os.path.join(mp_root, 'meta_derived', 'inner_radii.npy'))\n",
    "outer_radii = np.load(os.path.join(mp_root, 'meta_derived', 'outer_radii.npy'))"
   ]
  },
  {
   "cell_type": "code",
   "execution_count": 101,
   "metadata": {},
   "outputs": [
    {
     "data": {
      "image/png": "[encoded data removed]",
      "text/plain": [
       "<Figure size 432x259.2 with 1 Axes>"
      ]
     },
     "metadata": {
      "needs_background": "light"
     },
     "output_type": "display_data"
    }
   ],
   "source": [
    "plt.figure(figsize=(6, 3.6))\n",
    "plt.hist(spacing, bins=200, density=True, color='black')\n",
    "plt.xlabel(\"distance, Å\")\n",
    "plt.ylabel(\"density\")\n",
    "plt.vlines(4, 0, 1.0, linestyle=\"dotted\", color='red', label=\"4 Å     \")\n",
    "plt.vlines(5, 0, 1.0, linestyle=\"dashed\", color='red', label=\"5 Å     \")\n",
    "plt.legend(loc=\"upper left\", fontsize=\"medium\")\n",
    "plt.xlim((0,6))\n",
    "plt.text(5.2, 0.2, 'exclude')\n",
    "plt.arrow(5.2, 0.15, 0.6, 0, head_width=0.04, color='black')\n",
    "plt.savefig(f'{images_root}/closest_neighbor_distribution.pgf');"
   ]
  },
  {
   "cell_type": "code",
   "execution_count": 52,
   "metadata": {},
   "outputs": [
    {
     "data": {
      "text/plain": [
       "13.400094481335495"
      ]
     },
     "execution_count": 52,
     "metadata": {},
     "output_type": "execute_result"
    }
   ],
   "source": [
    "max(spacing)"
   ]
  },
  {
   "cell_type": "code",
   "execution_count": 106,
   "metadata": {},
   "outputs": [
    {
     "data": {
      "text/plain": [
       "174"
      ]
     },
     "execution_count": 106,
     "metadata": {},
     "output_type": "execute_result"
    }
   ],
   "source": [
    "spacing[spacing>6].__len__()"
   ]
  },
  {
   "cell_type": "code",
   "execution_count": null,
   "metadata": {},
   "outputs": [],
   "source": []
  },
  {
   "cell_type": "code",
   "execution_count": 43,
   "metadata": {},
   "outputs": [
    {
     "data": {
      "image/png": "[encoded data removed]",
      "text/plain": [
       "<Figure size 432x259.2 with 1 Axes>"
      ]
     },
     "metadata": {
      "needs_background": "light"
     },
     "output_type": "display_data"
    }
   ],
   "source": [
    "plt.figure(figsize=(6, 3.6))\n",
    "plt.xlabel(\"radius, Å\")\n",
    "plt.ylabel(\"density\")\n",
    "plt.hist(inner_radii, bins=200, density=True, color='black')\n",
    "plt.vlines(5, 0, 0.3, color='red', label=\"5 Å     \")\n",
    "plt.xlim((0,15))\n",
    "plt.xticks(np.arange(15+1))\n",
    "plt.legend()\n",
    "plt.savefig(f'{images_root}/inner_radius.pgf');"
   ]
  },
  {
   "cell_type": "code",
   "execution_count": 49,
   "metadata": {},
   "outputs": [
    {
     "data": {
      "text/plain": [
       "24.72814241"
      ]
     },
     "execution_count": 49,
     "metadata": {},
     "output_type": "execute_result"
    }
   ],
   "source": [
    "max(inner_radii)"
   ]
  },
  {
   "cell_type": "code",
   "execution_count": 107,
   "metadata": {},
   "outputs": [
    {
     "data": {
      "text/plain": [
       "107"
      ]
     },
     "execution_count": 107,
     "metadata": {},
     "output_type": "execute_result"
    }
   ],
   "source": [
    "inner_radii[inner_radii>15].__len__()"
   ]
  },
  {
   "cell_type": "code",
   "execution_count": 48,
   "metadata": {},
   "outputs": [
    {
     "data": {
      "image/png": "[encoded data removed]",
      "text/plain": [
       "<Figure size 432x259.2 with 1 Axes>"
      ]
     },
     "metadata": {
      "needs_background": "light"
     },
     "output_type": "display_data"
    }
   ],
   "source": [
    "plt.figure(figsize=(6, 3.6))\n",
    "plt.xlabel(\"radius, Å\")\n",
    "plt.ylabel(\"density\")\n",
    "plt.hist(outer_radii, bins=200, density=True, color='black')\n",
    "plt.vlines(5, 0, 0.1, color='red', label=\"5 Å     \")\n",
    "plt.xlim((0,50))\n",
    "plt.xticks(np.arange(0, 51, 5))\n",
    "plt.legend()\n",
    "plt.savefig(f'{images_root}/outer_radius.pgf');"
   ]
  },
  {
   "cell_type": "code",
   "execution_count": 50,
   "metadata": {},
   "outputs": [
    {
     "data": {
      "text/plain": [
       "211.55942077853473"
      ]
     },
     "execution_count": 50,
     "metadata": {},
     "output_type": "execute_result"
    }
   ],
   "source": [
    "max(outer_radii)"
   ]
  },
  {
   "cell_type": "code",
   "execution_count": 109,
   "metadata": {},
   "outputs": [
    {
     "data": {
      "text/plain": [
       "718"
      ]
     },
     "execution_count": 109,
     "metadata": {},
     "output_type": "execute_result"
    }
   ],
   "source": [
    "outer_radii[outer_radii>50].__len__()"
   ]
  },
  {
   "cell_type": "code",
   "execution_count": null,
   "metadata": {},
   "outputs": [],
   "source": []
  },
  {
   "cell_type": "code",
   "execution_count": 56,
   "metadata": {},
   "outputs": [],
   "source": [
    "from collections import Counter"
   ]
  },
  {
   "cell_type": "code",
   "execution_count": 57,
   "metadata": {},
   "outputs": [],
   "source": [
    "diameters = np.load(os.path.join(mp_root, 'meta_derived', 'diameters_5.0.npy'))"
   ]
  },
  {
   "cell_type": "code",
   "execution_count": 69,
   "metadata": {},
   "outputs": [],
   "source": [
    "diameters_dict = dict(sorted(Counter(diameters).items()))\n",
    "diameters_unique = np.array(list(diameters_dict.keys()))\n",
    "diameters_counts = np.array(list(diameters_dict.values()))"
   ]
  },
  {
   "cell_type": "code",
   "execution_count": 105,
   "metadata": {},
   "outputs": [
    {
     "data": {
      "image/png": "[encoded data removed]",
      "text/plain": [
       "<Figure size 432x259.2 with 1 Axes>"
      ]
     },
     "metadata": {
      "needs_background": "light"
     },
     "output_type": "display_data"
    }
   ],
   "source": [
    "plt.figure(figsize=(6, 3.6))\n",
    "plt.bar(diameters_unique[:10], diameters_counts[:10]*100/diameters_counts.sum(), color=\"black\")\n",
    "plt.bar(diameters_unique[0], diameters_counts[0]*100/diameters_counts.sum(), color=\"red\")\n",
    "plt.ylabel(\"Share of structures, %\")\n",
    "plt.xlabel(\"Crystal graph diameter\")\n",
    "plt.xticks(np.arange(-1, 9+1))\n",
    "plt.text(-1.5, 10, 'exclude')\n",
    "plt.arrow(-1, 8, 0, -6, head_width=0.2, color='black')\n",
    "plt.savefig(f'{images_root}/diameters.pgf');"
   ]
  },
  {
   "cell_type": "code",
   "execution_count": 117,
   "metadata": {},
   "outputs": [
    {
     "data": {
      "text/plain": [
       "0.9816053235580654"
      ]
     },
     "execution_count": 117,
     "metadata": {},
     "output_type": "execute_result"
    }
   ],
   "source": [
    "diameters_counts[1:5].sum()/diameters_counts.sum()"
   ]
  },
  {
   "cell_type": "code",
   "execution_count": 116,
   "metadata": {},
   "outputs": [
    {
     "data": {
      "text/plain": [
       "array([1, 2, 3, 4])"
      ]
     },
     "execution_count": 116,
     "metadata": {},
     "output_type": "execute_result"
    }
   ],
   "source": [
    "diameters_unique[1:5]"
   ]
  }
 ],
 "metadata": {
  "kernelspec": {
   "display_name": "Python (lz)",
   "language": "python",
   "name": "lz"
  },
  "language_info": {
   "codemirror_mode": {
    "name": "ipython",
    "version": 3
   },
   "file_extension": ".py",
   "mimetype": "text/x-python",
   "name": "python",
   "nbconvert_exporter": "python",
   "pygments_lexer": "ipython3",
   "version": "3.6.10"
  }
 },
 "nbformat": 4,
 "nbformat_minor": 4
}
